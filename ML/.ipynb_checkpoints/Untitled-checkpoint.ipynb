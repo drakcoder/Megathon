{
 "cells": [
  {
   "cell_type": "code",
   "execution_count": 2,
   "id": "a5e163bb",
   "metadata": {},
   "outputs": [],
   "source": [
    "import random\n",
    "import pandas as pd\n",
    "import numpy as np"
   ]
  },
  {
   "cell_type": "code",
   "execution_count": 3,
   "id": "00304f29",
   "metadata": {},
   "outputs": [],
   "source": [
    "distance=[]\n",
    "for i in range(1000):\n",
    "    distance.append(random.randint(0,10000))"
   ]
  },
  {
   "cell_type": "code",
   "execution_count": 5,
   "id": "e4ceeefa",
   "metadata": {},
   "outputs": [],
   "source": [
    "engineOil=[]\n",
    "for i in range(1000):\n",
    "    engineOil.append(random.randint(0,10))"
   ]
  },
  {
   "cell_type": "code",
   "execution_count": 6,
   "id": "e62d81ea",
   "metadata": {},
   "outputs": [],
   "source": [
    "tireAge=[]\n",
    "for i in range(1000):\n",
    "    tireAge.append(random.randint(0,10))"
   ]
  },
  {
   "cell_type": "code",
   "execution_count": 9,
   "id": "bf416429",
   "metadata": {},
   "outputs": [],
   "source": [
    "emissions=[]\n",
    "for i in range(1000):\n",
    "    emissions.append(random.randint(0,100))"
   ]
  },
  {
   "cell_type": "code",
   "execution_count": null,
   "id": "ea79be86",
   "metadata": {},
   "outputs": [],
   "source": [
    "batteryAge=[]\n",
    "for i in range(1000):\n",
    "    batteryAge.append(random.randint(0,10000))"
   ]
  }
 ],
 "metadata": {
  "kernelspec": {
   "display_name": "Python 3 (ipykernel)",
   "language": "python",
   "name": "python3"
  },
  "language_info": {
   "codemirror_mode": {
    "name": "ipython",
    "version": 3
   },
   "file_extension": ".py",
   "mimetype": "text/x-python",
   "name": "python",
   "nbconvert_exporter": "python",
   "pygments_lexer": "ipython3",
   "version": "3.10.6"
  }
 },
 "nbformat": 4,
 "nbformat_minor": 5
}
